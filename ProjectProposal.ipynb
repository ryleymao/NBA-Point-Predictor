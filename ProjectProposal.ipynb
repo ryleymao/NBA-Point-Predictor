{
 "cells": [
  {
   "cell_type": "markdown",
   "metadata": {},
   "source": [
    "# Names\n",
    "\n",
    "- Brian Nguyen\n",
    "- Nathan Wong\n",
    "- Daniel Phan\n",
    "- Ryley Mao"
   ]
  },
  {
   "cell_type": "markdown",
   "metadata": {},
   "source": [
    "# Research Question"
   ]
  },
  {
   "cell_type": "markdown",
   "metadata": {},
   "source": [
    "Can we build a predictive model to estimate how many points an NBA superstar will score in a given game, based on recent performance and the opposing team?\n"
   ]
  },
  {
   "cell_type": "markdown",
   "metadata": {},
   "source": [
    "## Background and Prior Work"
   ]
  },
  {
   "cell_type": "markdown",
   "metadata": {},
   "source": [
    "All members of our group are passionate NBA fans and active sports bettors, and we wanted to take a data-driven approach to improve that decision-making process. Millions of fans like us attempt to guess whether NBA superstars will score over a certain number of points on platforms like PrizePicks, often relying on intuition, matchup narratives, or raw stat trends. \n",
    "\n",
    "While many projects exist that aim to predict general fantasy performance or player stat lines, few focus specifically on individual point prediction for NBA superstars, and even fewer do so with an emphasis on practical, daily usability. For instance, a relevant GitHub project is \"nba-player-points-prediction\"<a name=\"cite_ref-1\"></a>[<sup>1</sup>](#cite_note-1), which used Linear Regression to predict point totals but lacked player-specific model tailoring and did not incorporate matchup context or intangible factors like rest or home/away which are limitations we aim to avoid.\n",
    "\n",
    "Another similar project, NBAplayer_Performance_Pred<a name=\"cite_ref-2\"></a>[<sup>2</sup>](#cite_note-2), used Random Forest and Ridge Regression models to predict NBA player performance stats. While the project incorporated some useful statistical features, it focused more on general performance across all players rather than narrowing in on top scorers or real-world prediction usability. Also it did not include game-specific contextual variables such as rest days or injuries, which we believe are crucial for predicting scoring outputs on a game-to-game basis.\n",
    "\n",
    "We want to design a tool that predicts a superstar’s point total on a given night by combining recent player performance, opponent defensive metrics, and game context (e.g., back-to-back games, home/away, rest days). Rather than building a generalized model across all players, we will narrow our scope to top scorers (top 50 in Points per game) in the regular season and aim for game-to-game predictive accuracy that could be realistically applied by fans, fantasy players, or bettors looking to gain an edge.\t\n",
    "\n",
    "\n",
    "1. <a name=\"cite_note-1\"></a> [^](#cite_ref-1) https://github.com/Jayplect/nba-player-points-prediction\n",
    "2. <a name=\"cite_note-2\"></a> [^](#cite_ref-2) https://github.com/RayJiazy/NBAplayer_Performance_Pred\n"
   ]
  },
  {
   "cell_type": "markdown",
   "metadata": {},
   "source": [
    "# Hypothesis\n"
   ]
  },
  {
   "cell_type": "markdown",
   "metadata": {},
   "source": [
    "We believe that a player’s recent scoring trends, combined with opponent defensive strength and game context (such as back-to-back games or rest days), will allow us to predict points scored within a 3–5 point margin. We expect player-specific trends and matchup data to have the strongest influence on performance.\n"
   ]
  },
  {
   "cell_type": "markdown",
   "metadata": {},
   "source": [
    "# Data"
   ]
  },
  {
   "cell_type": "markdown",
   "metadata": {},
   "source": [
    "Variables: \n",
    "- Player info: name, position, team\n",
    "- Game stats: date, points scored, minutes, field goal attempts, 3PA, FTA\n",
    "- Opponent team: defensive rating, pace, points allowed per game and to position\n",
    "- Context: home/away, back-to-back, rest days, injuries\n",
    "- Vegas line: total over/under and spread\n",
    "\n",
    "The ideal dataset would include all relevant game-by-game performance metrics for the top 50 scorers in the NBA across at least one full season (ideally 2–3 seasons to enhance model reliability). Each observation would represent a single player’s performance in a specific game. This dataset would contain detailed context: recent scoring trends, opponent defensive quality, and game environment factors such as whether the player was on the second night of a back-to-back, how many days of rest they had, and whether the game was played at home or away. It would also include Vegas betting lines to help compare the model’s prediction to real-world expectations. The dataset should include at least 4,000–10,000 player-game observations, be numeric where possible for ease of modeling, and be stored in CSV format with consistent variable names, no null values, and a data dictionary to describe each field.\n",
    "\n",
    "There are several real-world datasets and APIs that can provide most of the data needed for our project. The NBA API (nba_api) offers detailed game-by-game player statistics, including points scored, field goal attempts, and minutes played, as well as game context such as home/away and date, making it a strong foundation for our dataset. Basketball-Reference is another valuable source, offering advanced team stats like defensive rating, opponent pace, and points allowed per game, which can be scraped or manually merged with player data. Injury status and rest day data are not typically bundled with player stats and would require custom calculations based on game schedules or external injury reports. "
   ]
  },
  {
   "cell_type": "markdown",
   "metadata": {},
   "source": [
    "# Ethics & Privacy"
   ]
  },
  {
   "cell_type": "markdown",
   "metadata": {},
   "source": [
    "There should not be significant privacy or ethical concerns with the data we are collecting, as it comes from public sources like the NBA’s official statistics website, Basketball-Reference, and APIs such as nba_api. These sources are reputable and widely used for research and fan analysis. Since player statistics, team metrics, and game schedules are already publicly available, we are not using any private or personally identifiable information. However, one potential ethical concern is the use of injury information. While injury status is often publicly reported, we will treat it cautiously and avoid making assumptions about a player's health or long-term performance based on brief injury labels. We will only use high-level injury status (e.g., whether the player played or not) and not speculate beyond that.\n",
    "\n",
    "There is also a potential bias in who is included in our dataset, as we are only focusing on the top 50 scorers in the league. This could skew our model toward players with high offensive usage and media exposure, possibly ignoring players from smaller-market teams or more defensive-focused roles. While this limitation is acceptable for our specific research question, which targets high-scoring players, we acknowledge that it may limit the generalizability of our model. Additionally, factors such as national TV coverage, travel schedules, or coaching decisions may introduce unseen biases that impact player performance but are difficult to quantify.\n",
    "\n",
    "Another limitation is that our model may not fully account for game context such as crowd influence, altitude, or locker room issues—factors that are hard to measure but can influence performance. We will also be cautious about interpreting our model’s predictions as exact truths; instead, we will present them as probabilistic estimates with expected variance. Since our project may appeal to fantasy sports or betting audiences, we will include a clear disclaimer that our model is for educational use only and should not be taken as financial advice.\n",
    "\n",
    "To address these concerns, we will review our dataset for coverage gaps (e.g., missing games, skewed representation of certain teams or players), compare prediction accuracy across player types, and document any trends or outliers. During analysis, we will flag inconsistencies or anomalies and conduct additional research to decide whether they reflect natural variance or underlying bias. Finally, before finalizing our results, we will proofread our conclusions with an eye toward ethical communication and may ask for outside feedback to catch unintentional bias in our interpretations."
   ]
  },
  {
   "cell_type": "markdown",
   "metadata": {},
   "source": [
    "# Team Expectations "
   ]
  },
  {
   "cell_type": "markdown",
   "metadata": {},
   "source": [
    "* *Keep in touch with group members via iMessage or Discord groupchat*\n",
    "* *Coordinate on meeting times*\n",
    "* *Complete individually assigned tasks on time*\n",
    "* *Communicate promptly if any change of plans arises*"
   ]
  },
  {
   "cell_type": "markdown",
   "metadata": {},
   "source": [
    "# Project Timeline Proposal"
   ]
  },
  {
   "cell_type": "markdown",
   "metadata": {},
   "source": [
    "Specify your team's specific project timeline. An example timeline has been provided. Changes the dates, times, names, and details to fit your group's plan.\n",
    "\n",
    "If you think you will need any special resources or training outside what we have covered in COGS 108 to solve your problem, then your proposal should state these clearly. For example, if you have selected a problem that involves implementing multiple neural networks, please state this so we can make sure you know what you’re doing and so we can point you to resources you will need to implement your project. Note that you are not required to use outside methods.\n",
    "\n",
    "\n",
    "\n",
    "| Meeting Date  | Meeting Time| Completed Before Meeting  | Discuss at Meeting |\n",
    "|---|---|---|---|\n",
    "| 4/30  |  4 PM | Brainstorm project ideas  | Finish Project Proposal | \n",
    "| 5/7 |  4 PM |  Do background research on topic and find Data | Work on Checkpoint #1: Data | \n",
    "| 5/14  | 4 PM  | Import & Wrangle Data  | Finish Checkpoint #1: Data   |\n",
    "| 5/21 | 4 PM  | Work on Assigned Tasks | Review/Edit wrangling/EDA; Discuss Analysis Plan ; Start Checkpoint #2: EDA  |\n",
    "| 5/28  | 4 PM  | Finalize wrangling/EDA; Begin Analysis | Finish Checkpoint #2: EDA |\n",
    "| 6/4  | 4 PM  | Complete analysis; Draft results/conclusion/discussion | Discuss/edit full project |\n",
    "| 6/13  | 4 PM  | Make final edits and prepare to turn in Final Project | Turn in Final Project & Group Project Surveys |"
   ]
  }
 ],
 "metadata": {
  "kernelspec": {
   "display_name": "Python 3 (ipykernel)",
   "language": "python",
   "name": "python3"
  },
  "language_info": {
   "codemirror_mode": {
    "name": "ipython",
    "version": 3
   },
   "file_extension": ".py",
   "mimetype": "text/x-python",
   "name": "python",
   "nbconvert_exporter": "python",
   "pygments_lexer": "ipython3",
   "version": "3.9.7"
  }
 },
 "nbformat": 4,
 "nbformat_minor": 2
}
