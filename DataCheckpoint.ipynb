{
 "cells": [
  {
   "cell_type": "markdown",
   "metadata": {},
   "source": [
    "# Names\n",
    "\n",
    "- Brian Nguyen\n",
    "- Nathan Wong\n",
    "- Daniel Phan\n",
    "- Ryley Mao"
   ]
  },
  {
   "cell_type": "markdown",
   "metadata": {},
   "source": [
    "# Research Question"
   ]
  },
  {
   "cell_type": "markdown",
   "metadata": {},
   "source": [
    "Can we build a predictive model to estimate how many points an NBA superstar will score in a given game, based on player performance metrics, game location, opponent defensive stats, and team offensive context? Specifically, we will use variables such as Points per Game (PPG), Field Goal Attempts per Game (FGA), Effective Field Goal Percentage (eFG%), True Shooting Percentage (TS%), home/away status, opponent defensive rating, opponent FG% allowed, opponent PPG allowed, team offensive rating, and team pace."
   ]
  },
  {
   "cell_type": "markdown",
   "metadata": {},
   "source": [
    "## Background and Prior Work"
   ]
  },
  {
   "cell_type": "markdown",
   "metadata": {},
   "source": [
    "All members of our group are passionate NBA fans and active sports bettors, and we wanted to take a data-driven approach to improve that decision-making process. Millions of fans like us attempt to guess whether NBA superstars will score over a certain number of points on platforms like PrizePicks, often relying on intuition, matchup narratives, or raw stat trends. \n",
    "\n",
    "While many projects exist that aim to predict general fantasy performance or player stat lines, few focus specifically on individual point prediction for NBA superstars, and even fewer do so with an emphasis on practical, daily usability. For instance, a relevant GitHub project is \"nba-player-points-prediction\"<a name=\"cite_ref-1\"></a>[<sup>1</sup>](#cite_note-1), which used Linear Regression to predict point totals but lacked player-specific model tailoring and did not incorporate matchup context or intangible factors like rest or home/away which are limitations we aim to avoid.\n",
    "\n",
    "Another similar project, NBAplayer_Performance_Pred<a name=\"cite_ref-2\"></a>[<sup>2</sup>](#cite_note-2), used Random Forest and Ridge Regression models to predict NBA player performance stats. While the project incorporated some useful statistical features, it focused more on general performance across all players rather than narrowing in on top scorers or real-world prediction usability. Also it did not include game-specific contextual variables such as rest days or injuries, which we believe are crucial for predicting scoring outputs on a game-to-game basis.\n",
    "\n",
    "We want to design a tool that predicts a superstar’s point total on a given night by combining recent player performance, opponent defensive metrics, and game context (e.g., back-to-back games, home/away, rest days). Rather than building a generalized model across all players, we will narrow our scope to top scorers (top 50 in Points per game) in the regular season and aim for game-to-game predictive accuracy that could be realistically applied by fans, fantasy players, or bettors looking to gain an edge.\t\n",
    "\n",
    "\n",
    "1. <a name=\"cite_note-1\"></a> [^](#cite_ref-1) https://github.com/Jayplect/nba-player-points-prediction\n",
    "2. <a name=\"cite_note-2\"></a> [^](#cite_ref-2) https://github.com/RayJiazy/NBAplayer_Performance_Pred"
   ]
  },
  {
   "cell_type": "markdown",
   "metadata": {},
   "source": [
    "# Hypothesis\n"
   ]
  },
  {
   "cell_type": "markdown",
   "metadata": {},
   "source": [
    "We hypothesize that a predictive model using player performance metrics, game location, opponent defensive stats, and team offensive context can accurately estimate how many points an NBA superstar will score in a given game. We expect that variables such as PPG, FGA, eFG%, TS%, home/away status, opponent defensive rating, opponent FG% allowed, opponent PPG allowed, team offensive rating, and team pace will show strong relationships with individual scoring. By capturing these factors, we believe the model will be able to make accurate point predictions within a reasonable margin. We believe this will be the outcome because superstar scoring is influenced by consistent patterns in usage, shooting efficiency, and team context, which are reflected in the metrics we selected."
   ]
  },
  {
   "cell_type": "markdown",
   "metadata": {},
   "source": [
    "# Data"
   ]
  },
  {
   "cell_type": "markdown",
   "metadata": {},
   "source": [
    "## Data overview\n",
    "\n",
    "For each dataset include the following information\n",
    "- Dataset #1\n",
    "  - Dataset Name: NBA Stats (1947-present)\n",
    "  - Link to the dataset:https://www.kaggle.com/datasets/sumitrodatta/nba-aba-baa-stats/data\n",
    "  - Number of observations: ~40000 \n",
    "  - Number of variables: 7\n",
    "\n",
    "This dataset contains NBA player and team statistics from 1947 to the present. For this project, we are focusing on the 2014–2025 seasons and 50 superstar players. Each observation represents a single player's performance in one game. Important variables in this dataset include Effective Field Goal Percentage (eFG%), True Shooting Percentage (TS%), opponent defensive rating, opponent field goal percentage allowed, opponent points per game allowed, team offensive rating, and team pace. These variables help us capture how efficiently players score and how difficult their matchups are.\n",
    "\n",
    "- Dataset #2\n",
    "  - Dataset Name: Complete NBA Database and Historical Box Scores\n",
    "  - Link to the dataset:https://www.kaggle.com/datasets/eoinamoore/historical-nba-data-and-player-box-scores?select=PlayerStatistics.csv\n",
    "  - Number of observations: ~40000 \n",
    "  - Number of variables: 3\n",
    "\n",
    "This second dataset includes game-by-game player stats for recent NBA seasons and provides the remaining key variables we need: Points Per Game (PPG), Field Goal Attempts (FGA), and game location (home/away). These variables are essential for measuring a player’s scoring output and how it might change depending on where the game is played.\n",
    "\n",
    "This dataset contains NBA player and team statistics from the 1947 season through the present. For our project, we will focus on the 2014–2025 seasons and only include 50 superstar players. Each observation will represent one player's performance in a single game, leading to about 40,000 observations in total. Important variables include Points per Game (PPG), Field Goal Attempts (FGA), Effective Field Goal Percentage (eFG%), True Shooting Percentage (TS%), game location (home/away), opponent defensive rating, opponent field goal percentage allowed, opponent points per game allowed, team offensive rating, and team pace.\n",
    "\n",
    "To build a complete dataset with all 10 variables, we will merge these two datasets using common keys such as player name, game date, and team. This will allow us to match each player's performance with the opponent and team context for that specific game. We need to filter our data so we are only looking at games from 2014-2025 and only regular season games. We also will be filtering for only our list of 50 superstars:\n",
    "\n",
    "Nikola Jokic\n",
    "Giannis Antetokounmpo\n",
    "Shai Gilgeous Alexander\n",
    "Luka Doncic\n",
    "Victor Wembanyama\n",
    "Anthony Davis\n",
    "Cade Cunningham\n",
    "Lebron James\n",
    "Jayson Tatum\n",
    "Karl-Anthony Towns\n",
    "Domantas Sabonis\n",
    "Kevin Durant\n",
    "Trae Young\n",
    "Zion Williamson \n",
    "Anthony Edwards\n",
    "Damian Lillard\n",
    "James Harden\n",
    "Jalen Brunson \n",
    "Devin Booker\n",
    "Tyrese Maxey\n",
    "Paolo Banchero\n",
    "Lamelo Ball\n",
    "Stephen Curry\n",
    "Joel Embiid\n",
    "Kyrie Irving\n",
    "Tyler Herro\n",
    "De Aaron Fox\n",
    "Jalen Johnson\n",
    "Tyrese Haliburton\n",
    "Franz Wagner\n",
    "Ja Morant\n",
    "Ivica Zubac\n",
    "Alperen Sengun\n",
    "Donovan Mitchell\n",
    "Jalen Williams\n",
    "Nikola Vucevic\n",
    "Evan Mobley \n",
    "Jamal Murray\n",
    "Scottie Barnes\n",
    "Zach Lavine \n",
    "Brandon IIngram\n",
    "Bam Adebayo\n",
    "Jaylen Brown\n",
    "Kawhi Leonard\n",
    "Desmond Bane\n",
    "Pascal Siakam\n",
    "Darius Garland\n",
    "RJ Barrett\n",
    "Austin Reaves\n",
    "Jaren Jackson Jr\n"
   ]
  },
  {
   "cell_type": "markdown",
   "metadata": {},
   "source": [
    "## Setup"
   ]
  },
  {
   "cell_type": "code",
   "execution_count": null,
   "metadata": {},
   "outputs": [],
   "source": [
    "import pandas as pd\n",
    "from unidecode import unidecode\n",
    "\n",
    "# Superstar players list\n",
    "superstars = [\n",
    "    \"Nikola Jokic\", \"Giannis Antetokounmpo\", \"Shai Gilgeous Alexander\", \"Luka Doncic\",\n",
    "    \"Victor Wembanyama\", \"Anthony Davis\", \"Cade Cunningham\", \"Lebron James\", \"Jayson Tatum\",\n",
    "    \"Karl-Anthony Towns\", \"Domantas Sabonis\", \"Kevin Durant\", \"Trae Young\", \"Zion Williamson\",\n",
    "    \"Anthony Edwards\", \"Damian Lillard\", \"James Harden\", \"Jalen Brunson\", \"Devin Booker\",\n",
    "    \"Tyrese Maxey\", \"Paolo Banchero\", \"Lamelo Ball\", \"Stephen Curry\", \"Joel Embiid\",\n",
    "    \"Kyrie Irving\", \"Tyler Herro\", \"De Aaron Fox\", \"Jalen Johnson\", \"Tyrese Haliburton\",\n",
    "    \"Franz Wagner\", \"Ja Morant\", \"Ivica Zubac\", \"Alperen Sengun\", \"Donovan Mitchell\",\n",
    "    \"Jalen Williams\", \"Nikola Vucevic\", \"Evan Mobley\", \"Jamal Murray\", \"Scottie Barnes\",\n",
    "    \"Zach Lavine\", \"Brandon IIngram\", \"Bam Adebayo\", \"Jaylen Brown\", \"Kawhi Leonard\",\n",
    "    \"Desmond Bane\", \"Pascal Siakam\", \"Darius Garland\", \"RJ Barrett\", \"Austin Reaves\",\n",
    "    \"Jaren Jackson Jr\"\n",
    "]\n",
    "superstars = [unidecode(name.lower().strip()) for name in superstars]"
   ]
  },
  {
   "cell_type": "markdown",
   "metadata": {},
   "source": [
    "## Dataset #1 (use name instead of number here)"
   ]
  },
  {
   "cell_type": "code",
   "execution_count": 77,
   "metadata": {},
   "outputs": [],
   "source": [
    "# Team summaries\n",
    "team_summary = pd.read_csv('data/Team Summaries.csv')\n",
    "team_summary['team'] = team_summary['team'].str.split().str[-1]\n",
    "team_summary = team_summary[['season','team','o_rtg','d_rtg', 'pace']]\n",
    "team_summary = team_summary[(team_summary['season'] >= 2014) & (team_summary['season'] <= 2025)]\n",
    "\n",
    "# Opponent stats\n",
    "opp_stats = pd.read_csv('data/Opponent Stats Per Game.csv')\n",
    "opp_stats['team'] = opp_stats['team'].str.split().str[-1]\n",
    "opp_stats = opp_stats[['season', 'team', 'opp_fg_percent', 'opp_pts_per_game']]\n",
    "opp_stats = opp_stats[(opp_stats['season'] >= 2014) & (opp_stats['season'] <= 2025)]\n",
    "\n",
    "# Advanced stats\n",
    "adv = pd.read_csv('data/Advanced.csv')\n",
    "adv = adv[['season', 'player', 'ts_percent']]\n",
    "adv = adv[(adv['season'] >= 2014) & (adv['season'] <= 2025)]\n",
    "adv['player'] = adv['player'].apply(lambda x: unidecode(x.strip().lower()))\n",
    "adv = adv[adv['player'].isin(superstars)]\n",
    "adv = adv.groupby(['season', 'player'], as_index=False).agg({'ts_percent': 'mean'})\n",
    "\n",
    "# Per game stats\n",
    "game = pd.read_csv('data/Player Per Game.csv')\n",
    "game = game[['season', 'player', 'e_fg_percent']]\n",
    "game = game[(game['season'] >= 2014) & (game['season'] <= 2025)]\n",
    "game['player'] = game['player'].apply(lambda x: unidecode(x.strip().lower()))\n",
    "game = game[game['player'].isin(superstars)]\n",
    "game = game.groupby(['season','player'], as_index=False).agg({'e_fg_percent':'mean'})\n",
    "\n"
   ]
  },
  {
   "cell_type": "markdown",
   "metadata": {},
   "source": [
    "## Dataset #2 (use name instead of number here)"
   ]
  },
  {
   "cell_type": "code",
   "execution_count": 78,
   "metadata": {},
   "outputs": [
    {
     "name": "stderr",
     "output_type": "stream",
     "text": [
      "C:\\Users\\Brian\\AppData\\Local\\Temp\\ipykernel_1660\\616632331.py:2: DtypeWarning: Columns (10,11) have mixed types. Specify dtype option on import or set low_memory=False.\n",
      "  stats = pd.read_csv('data/PlayerStatistics.csv')\n"
     ]
    }
   ],
   "source": [
    "# Player game-by-game\n",
    "stats = pd.read_csv('data/PlayerStatistics.csv')\n",
    "stats['player'] = stats['firstName'] + ' ' + stats['lastName']\n",
    "stats['player'] = stats['player'].apply(lambda x: unidecode(x.strip().lower()))\n",
    "stats['gameDate'] = pd.to_datetime(stats['gameDate'])\n",
    "stats['season'] = stats['gameDate'].apply(lambda x: x.year + 1 if x.month >= 10 else x.year)\n",
    "stats = stats[(stats['gameDate'].dt.year >= 2014) & (stats['gameDate'].dt.year <= 2025)]\n",
    "stats = stats[stats['player'].isin(superstars)]\n",
    "stats = stats[stats['gameType'] == 'Regular Season']\n",
    "stats = stats[['player', 'season', 'playerteamName', 'opponentteamName', 'home', 'points', 'fieldGoalsAttempted']]\n",
    "stats['team'] = stats['playerteamName'].str.split().str[-1]"
   ]
  },
  {
   "cell_type": "markdown",
   "metadata": {},
   "source": [
    "## Merge into one Data Frame"
   ]
  },
  {
   "cell_type": "code",
   "execution_count": null,
   "metadata": {},
   "outputs": [
    {
     "name": "stdout",
     "output_type": "stream",
     "text": [
      "                player  season playerteamName opponentteamName  home  points  \\\n",
      "0         nikola jokic    2025        Nuggets          Rockets     0    18.0   \n",
      "1         jamal murray    2025        Nuggets          Rockets     0    16.0   \n",
      "2       alperen sengun    2025        Rockets          Nuggets     1    14.0   \n",
      "3      anthony edwards    2025   Timberwolves             Jazz     1    43.0   \n",
      "4           rj barrett    2025        Raptors            Spurs     0     0.0   \n",
      "...                ...     ...            ...              ...   ...     ...   \n",
      "22829    kawhi leonard    2014          Spurs           Knicks     1     8.0   \n",
      "22830     kevin durant    2014        Thunder             Nets     1    24.0   \n",
      "22831     lebron james    2014           Heat         Warriors     1    26.0   \n",
      "22832    stephen curry    2014       Warriors             Heat     0    36.0   \n",
      "22833    anthony davis    2014       Pelicans     Timberwolves     0    13.0   \n",
      "\n",
      "       fieldGoalsAttempted          team  o_rtg  d_rtg   pace  opp_fg_percent  \\\n",
      "0                     10.0       Nuggets  120.1  115.9  100.0           0.466   \n",
      "1                     16.0       Nuggets  120.1  115.9  100.0           0.466   \n",
      "2                     14.0       Rockets  115.1  110.1   98.5           0.456   \n",
      "3                     31.0  Timberwolves  116.1  111.4   97.5           0.460   \n",
      "4                      0.0       Raptors  110.4  114.7   99.5           0.463   \n",
      "...                    ...           ...    ...    ...    ...             ...   \n",
      "22829                  5.0         Spurs  110.5  102.4   95.0           0.444   \n",
      "22830                 13.0       Thunder  110.5  103.9   95.4           0.436   \n",
      "22831                 16.0          Heat  110.9  105.8   91.2           0.457   \n",
      "22832                 22.0      Warriors  107.5  102.6   96.2           0.436   \n",
      "22833                  9.0      Pelicans  107.2  110.1   92.2           0.465   \n",
      "\n",
      "       opp_pts_per_game  ts_percent  e_fg_percent  \n",
      "0                 116.7       0.659         0.623  \n",
      "1                 116.7       0.587         0.546  \n",
      "2                 109.1       0.546         0.506  \n",
      "3                 109.2       0.589         0.539  \n",
      "4                 115.0       0.553         0.528  \n",
      "...                 ...         ...           ...  \n",
      "22829              97.6       0.602         0.576  \n",
      "22830              99.8       0.635         0.560  \n",
      "22831              97.4       0.649         0.610  \n",
      "22832              99.5       0.610         0.566  \n",
      "22833             102.4       0.582         0.520  \n",
      "\n",
      "[22834 rows x 15 columns]\n",
      "player                 0\n",
      "season                 0\n",
      "playerteamName         0\n",
      "opponentteamName       0\n",
      "home                   0\n",
      "points                 0\n",
      "fieldGoalsAttempted    0\n",
      "team                   0\n",
      "o_rtg                  0\n",
      "d_rtg                  0\n",
      "pace                   0\n",
      "opp_fg_percent         0\n",
      "opp_pts_per_game       0\n",
      "ts_percent             0\n",
      "e_fg_percent           0\n",
      "dtype: int64\n",
      "player                  object\n",
      "season                   int64\n",
      "playerteamName          object\n",
      "opponentteamName        object\n",
      "home                     int64\n",
      "points                 float64\n",
      "fieldGoalsAttempted    float64\n",
      "team                    object\n",
      "o_rtg                  float64\n",
      "d_rtg                  float64\n",
      "pace                   float64\n",
      "opp_fg_percent         float64\n",
      "opp_pts_per_game       float64\n",
      "ts_percent             float64\n",
      "e_fg_percent           float64\n",
      "dtype: object\n"
     ]
    }
   ],
   "source": [
    "# Merge team summaries + opponent stats\n",
    "team_stats = pd.merge(team_summary, opp_stats, on=['season', 'team'], how='inner')\n",
    "team_stats = team_stats.sort_values(by='season')\n",
    "\n",
    "# Merge advanced stats + per game stats\n",
    "player_stats = pd.merge(adv, game, on=['season', 'player'], how='inner')\n",
    "\n",
    "# Merge with team stats\n",
    "df_merged = stats.merge(team_stats, on=['season', 'team'], how='left')\n",
    "\n",
    "# Final merge with player stats\n",
    "df = df_merged.merge(player_stats, on=['season', 'player'], how='left')\n",
    "\n",
    "print(df)\n"
   ]
  },
  {
   "cell_type": "markdown",
   "metadata": {},
   "source": [
    "## Check Null Values and Data Types"
   ]
  },
  {
   "cell_type": "code",
   "execution_count": 81,
   "metadata": {},
   "outputs": [
    {
     "name": "stdout",
     "output_type": "stream",
     "text": [
      "player                 0\n",
      "season                 0\n",
      "playerteamName         0\n",
      "opponentteamName       0\n",
      "home                   0\n",
      "points                 0\n",
      "fieldGoalsAttempted    0\n",
      "team                   0\n",
      "o_rtg                  0\n",
      "d_rtg                  0\n",
      "pace                   0\n",
      "opp_fg_percent         0\n",
      "opp_pts_per_game       0\n",
      "ts_percent             0\n",
      "e_fg_percent           0\n",
      "dtype: int64\n",
      "player                  object\n",
      "season                   int64\n",
      "playerteamName          object\n",
      "opponentteamName        object\n",
      "home                     int64\n",
      "points                 float64\n",
      "fieldGoalsAttempted    float64\n",
      "team                    object\n",
      "o_rtg                  float64\n",
      "d_rtg                  float64\n",
      "pace                   float64\n",
      "opp_fg_percent         float64\n",
      "opp_pts_per_game       float64\n",
      "ts_percent             float64\n",
      "e_fg_percent           float64\n",
      "dtype: object\n"
     ]
    }
   ],
   "source": [
    "print(df.isnull().sum())\n",
    "print(df.dtypes)"
   ]
  },
  {
   "cell_type": "markdown",
   "metadata": {},
   "source": [
    "# Ethics & Privacy"
   ]
  },
  {
   "cell_type": "markdown",
   "metadata": {},
   "source": [
    "There should not be significant privacy or ethical concerns with the data we are collecting, as it comes from public sources like the NBA’s official statistics website, Basketball-Reference, and APIs such as nba_api. These sources are reputable and widely used for research and fan analysis. Since player statistics, team metrics, and game schedules are already publicly available, we are not using any private or personally identifiable information. However, one potential ethical concern is the use of injury information. While injury status is often publicly reported, we will treat it cautiously and avoid making assumptions about a player's health or long-term performance based on brief injury labels. We will only use high-level injury status (e.g., whether the player played or not) and not speculate beyond that.\n",
    "\n",
    "There is also a potential bias in who is included in our dataset, as we are only focusing on the top 50 scorers in the league. This could skew our model toward players with high offensive usage and media exposure, possibly ignoring players from smaller-market teams or more defensive-focused roles. While this limitation is acceptable for our specific research question, which targets high-scoring players, we acknowledge that it may limit the generalizability of our model. Additionally, factors such as national TV coverage, travel schedules, or coaching decisions may introduce unseen biases that impact player performance but are difficult to quantify.\n",
    "\n",
    "Another limitation is that our model may not fully account for game context such as crowd influence, altitude, or locker room issues—factors that are hard to measure but can influence performance. We will also be cautious about interpreting our model’s predictions as exact truths; instead, we will present them as probabilistic estimates with expected variance. Since our project may appeal to fantasy sports or betting audiences, we will include a clear disclaimer that our model is for educational use only and should not be taken as financial advice.\n",
    "\n",
    "To address these concerns, we will review our dataset for coverage gaps (e.g., missing games, skewed representation of certain teams or players), compare prediction accuracy across player types, and document any trends or outliers. During analysis, we will flag inconsistencies or anomalies and conduct additional research to decide whether they reflect natural variance or underlying bias. Finally, before finalizing our results, we will proofread our conclusions with an eye toward ethical communication and may ask for outside feedback to catch unintentional bias in our interpretations."
   ]
  },
  {
   "cell_type": "markdown",
   "metadata": {},
   "source": [
    "# Team Expectations "
   ]
  },
  {
   "cell_type": "markdown",
   "metadata": {},
   "source": [
    "* *Keep in touch with group members via iMessage or Discord groupchat*\n",
    "* *Coordinate on meeting times*\n",
    "* *Complete individually assigned tasks on time*\n",
    "* *Communicate promptly if any change of plans arises*"
   ]
  },
  {
   "cell_type": "markdown",
   "metadata": {},
   "source": [
    "# Project Timeline Proposal"
   ]
  },
  {
   "cell_type": "markdown",
   "metadata": {},
   "source": [
    "Specify your team's specific project timeline. An example timeline has been provided. Changes the dates, times, names, and details to fit your group's plan.\n",
    "\n",
    "If you think you will need any special resources or training outside what we have covered in COGS 108 to solve your problem, then your proposal should state these clearly. For example, if you have selected a problem that involves implementing multiple neural networks, please state this so we can make sure you know what you’re doing and so we can point you to resources you will need to implement your project. Note that you are not required to use outside methods.\n",
    "\n",
    "\n",
    "\n",
    "| Meeting Date  | Meeting Time| Completed Before Meeting  | Discuss at Meeting |\n",
    "|---|---|---|---|\n",
    "| 4/30  |  4 PM | Brainstorm project ideas  | Finish Project Proposal | \n",
    "| 5/7 |  4 PM |  Do background research on topic and find Data | Work on Checkpoint #1: Data | \n",
    "| 5/14  | 4 PM  | Import & Wrangle Data  | Finish Checkpoint #1: Data   |\n",
    "| 5/21 | 4 PM  | Work on Assigned Tasks | Review/Edit wrangling/EDA; Discuss Analysis Plan ; Start Checkpoint #2: EDA  |\n",
    "| 5/28  | 4 PM  | Finalize wrangling/EDA; Begin Analysis | Finish Checkpoint #2: EDA |\n",
    "| 6/4  | 4 PM  | Complete analysis; Draft results/conclusion/discussion | Discuss/edit full project |\n",
    "| 6/13  | 4 PM  | Make final edits and prepare to turn in Final Project | Turn in Final Project & Group Project Surveys |"
   ]
  }
 ],
 "metadata": {
  "kernelspec": {
   "display_name": "Python 3",
   "language": "python",
   "name": "python3"
  },
  "language_info": {
   "codemirror_mode": {
    "name": "ipython",
    "version": 3
   },
   "file_extension": ".py",
   "mimetype": "text/x-python",
   "name": "python",
   "nbconvert_exporter": "python",
   "pygments_lexer": "ipython3",
   "version": "3.10.4"
  }
 },
 "nbformat": 4,
 "nbformat_minor": 2
}
